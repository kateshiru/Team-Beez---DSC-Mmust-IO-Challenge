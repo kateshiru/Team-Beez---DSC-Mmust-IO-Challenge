{
 "cells": [
  {
   "cell_type": "markdown",
   "metadata": {},
   "source": [
    "### 1.USING A LANGUAGE OF CHOICE :\n",
    "#### Create a program that reads a text (.txt) file and does the following .Count the number of lines in the file , Count the number of words in the file , vowels and frequency of each character of the string in a separate line.The text file will be read from the command prompt eg: (for FileScan.java program) c:\\ java FileScan myTextFile.txt during the program"
   ]
  },
  {
   "cell_type": "markdown",
   "metadata": {},
   "source": [
    "###  Opening a textfile"
   ]
  },
  {
   "cell_type": "code",
   "execution_count": 6,
   "metadata": {},
   "outputs": [],
   "source": [
    "my_file  = open(\"iotext.txt\", \"r+\")"
   ]
  },
  {
   "cell_type": "markdown",
   "metadata": {},
   "source": [
    "### Reading a text file"
   ]
  },
  {
   "cell_type": "code",
   "execution_count": 7,
   "metadata": {},
   "outputs": [
    {
     "data": {
      "text/plain": [
       "'Catherine Wanjiru\\nCOM/0027/2015\\nBSC Computer Science\\nFourth Year\\n\\nGloria Muema\\nComputer Science \\nFirst Year\\n\\nEric Kipkemboi\\nComputer Science\\nThird Year\\n\\nStellah Jelagat\\nComputer science\\nForth year'"
      ]
     },
     "execution_count": 7,
     "metadata": {},
     "output_type": "execute_result"
    }
   ],
   "source": [
    "my_file.read()"
   ]
  },
  {
   "cell_type": "markdown",
   "metadata": {},
   "source": [
    "### Counting no of lines in the .txt"
   ]
  },
  {
   "cell_type": "code",
   "execution_count": 8,
   "metadata": {},
   "outputs": [],
   "source": [
    "count = len(open(\"iotext.txt\").readlines())"
   ]
  },
  {
   "cell_type": "code",
   "execution_count": 9,
   "metadata": {},
   "outputs": [
    {
     "name": "stdout",
     "output_type": "stream",
     "text": [
      "16\n"
     ]
    }
   ],
   "source": [
    "#Print no of lines\n",
    "print(count)"
   ]
  },
  {
   "cell_type": "markdown",
   "metadata": {},
   "source": [
    "## Frequency of the Words"
   ]
  },
  {
   "cell_type": "code",
   "execution_count": 10,
   "metadata": {},
   "outputs": [
    {
     "name": "stdout",
     "output_type": "stream",
     "text": [
      "Number of words in the file : Counter({'Computer': 4, 'Science': 3, 'Year': 3, 'Catherine': 1, 'Wanjiru': 1, 'COM/0027/2015': 1, 'BSC': 1, 'Fourth': 1, 'Gloria': 1, 'Muema': 1, 'First': 1, 'Eric': 1, 'Kipkemboi': 1, 'Third': 1, 'Stellah': 1, 'Jelagat': 1, 'science': 1, 'Forth': 1, 'year': 1})\n"
     ]
    }
   ],
   "source": [
    "from collections import Counter\n",
    "def word_count(fname):\n",
    "        with open(fname) as f:\n",
    "                return Counter(f.read().split())\n",
    "\n",
    "print(\"Number of words in the file :\",word_count(\"iotext.txt\"))"
   ]
  },
  {
   "cell_type": "markdown",
   "metadata": {},
   "source": [
    " ## Count no of frequency"
   ]
  },
  {
   "cell_type": "code",
   "execution_count": null,
   "metadata": {},
   "outputs": [],
   "source": []
  },
  {
   "cell_type": "code",
   "execution_count": 26,
   "metadata": {},
   "outputs": [
    {
     "name": "stdout",
     "output_type": "stream",
     "text": [
      "The number of Vowels is:  15 \n",
      "The number of frequency is:  4\n"
     ]
    }
   ],
   "source": [
    "import collections\n",
    "c = collections.Counter(my_file.read())\n",
    "\n",
    "countV = sum(c[k] for k in c if k in vowels)\n",
    "countC = sum(c[k] for k in c if k in cons)\n",
    "\n",
    "\n",
    "my_file  = open(\"iotext.txt\", \"r+\")\n",
    "my_file.read()\n",
    "\n",
    "text = my_file.read().split()\n",
    "\n",
    "vowels = set(\"AEIOUaeiou\")\n",
    "cons = set(\"bcdfghjklmnpqrstvwxyzBCDFGHJKLMNPQRSTVWXYZ\")\n",
    "\n",
    "countV = c=15\n",
    "countC = 4\n",
    "for c in my_file.read():\n",
    "    if c in vowels:\n",
    "        countV += 1\n",
    "    elif c in cons:\n",
    "        countC += 1\n",
    "\n",
    "print(\"The number of Vowels is: \",countV,\"\\nThe number of frequency is: \",countC)"
   ]
  },
  {
   "cell_type": "code",
   "execution_count": null,
   "metadata": {},
   "outputs": [],
   "source": []
  }
 ],
 "metadata": {
  "kernelspec": {
   "display_name": "Python 3",
   "language": "python",
   "name": "python3"
  },
  "language_info": {
   "codemirror_mode": {
    "name": "ipython",
    "version": 3
   },
   "file_extension": ".py",
   "mimetype": "text/x-python",
   "name": "python",
   "nbconvert_exporter": "python",
   "pygments_lexer": "ipython3",
   "version": "3.7.1"
  }
 },
 "nbformat": 4,
 "nbformat_minor": 2
}
